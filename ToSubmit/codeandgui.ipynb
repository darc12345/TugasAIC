{
 "cells": [
  {
   "cell_type": "code",
   "execution_count": 1,
   "metadata": {},
   "outputs": [],
   "source": [
    "from tkinter import *\n",
    "from tkinter import scrolledtext\n",
    "import pickle\n",
    "import spacy\n",
    "import numpy as np\n",
    "from spacymoji import Emoji\n"
   ]
  },
  {
   "cell_type": "code",
   "execution_count": 2,
   "metadata": {},
   "outputs": [],
   "source": [
    "anxiety_model = pickle.load(open(\"AnxietyModel.pkl\", 'rb'))"
   ]
  },
  {
   "cell_type": "code",
   "execution_count": 3,
   "metadata": {},
   "outputs": [
    {
     "data": {
      "text/plain": [
       "<spacymoji.Emoji at 0x22b56040710>"
      ]
     },
     "execution_count": 3,
     "metadata": {},
     "output_type": "execute_result"
    }
   ],
   "source": [
    "nlp = spacy.load(\"en_core_web_sm\")\n",
    "nlp.add_pipe(\"emoji\", first=True)"
   ]
  },
  {
   "cell_type": "code",
   "execution_count": 10,
   "metadata": {},
   "outputs": [],
   "source": [
    "def screen_anxiety(text):\n",
    "    text_vector = nlp(text).vector\n",
    "    text_vector = text_vector.reshape(1,-1)\n",
    "    prediction =  anxiety_model.predict(text_vector)\n",
    "    return prediction"
   ]
  },
  {
   "cell_type": "code",
   "execution_count": 11,
   "metadata": {},
   "outputs": [],
   "source": [
    "def screening_text(input_text):\n",
    "    output_string = \"Hasil screening anda: \"\n",
    "    if screen_anxiety(input_text) == 0:\n",
    "        output_string += \"normal\"\n",
    "    if screen_anxiety(input_text) == 1:\n",
    "        output_string += \"anxiety\"\n",
    "    return output_string\n",
    "    "
   ]
  },
  {
   "cell_type": "code",
   "execution_count": 12,
   "metadata": {},
   "outputs": [
    {
     "name": "stdout",
     "output_type": "stream",
     "text": [
      "Hasil screening anda: anxiety\n"
     ]
    }
   ],
   "source": [
    "print(screening_text('i am depressed'))"
   ]
  },
  {
   "cell_type": "code",
   "execution_count": 20,
   "metadata": {},
   "outputs": [],
   "source": [
    "root = Tk()\n",
    "root.geometry(\"450x450\")\n",
    "root.title(\"Screening\")\n",
    "root.config(bg=\"skyblue\")\n",
    "\n",
    "#Bagian input text\n",
    "input_label= Label(root, text=\"Tuliskan pendapat anda:\", justify=\"center\")\n",
    "input_text = scrolledtext.ScrolledText(root, wrap=WORD, width=40, height=15, font=(\"Times New Roman\", 10))\n",
    "input_label.grid(row=0, column=0)\n",
    "input_text.grid(row=1, column=0)\n",
    "\n",
    "#Fungsi Submit\n",
    "def clicked():\n",
    "    global x\n",
    "    global input_text\n",
    "    global result\n",
    "    output_text =  screening_text(str(input_text))\n",
    "    result = output_text #+ format(input_text.get('1.0', 'end-1c'))\n",
    "    x = Label(root, text=result, font=('Arial', 8))\n",
    "    x.grid(row = 5, column= 0)\n",
    "\n",
    "#Tombol Submit\n",
    "mybtn = Button(root, text=\"Submit\", command= clicked, width=8)\n",
    "mybtn.grid(row= 1, column = 3)\n",
    "\n",
    "#Label output\n",
    "output_label = Label(root, text=\"Hasil Screening\")\n",
    "output_label.grid(row=4, column=0)\n",
    "\n",
    "#Fungsi clear\n",
    "def clear():\n",
    "    input_text.configure(state=\"normal\")\n",
    "    input_text.delete(1.0, END)\n",
    "    \n",
    "\n",
    "#Tombol clear\n",
    "myclearbtn = Button(root, text= \"Clear\", command= clear, width=8)\n",
    "myclearbtn.grid(row= 1, column = 5)\n",
    "\n",
    "input_text.focus()\n",
    "\n",
    "\n",
    "root.mainloop()"
   ]
  }
 ],
 "metadata": {
  "kernelspec": {
   "display_name": "Python 3",
   "language": "python",
   "name": "python3"
  },
  "language_info": {
   "codemirror_mode": {
    "name": "ipython",
    "version": 3
   },
   "file_extension": ".py",
   "mimetype": "text/x-python",
   "name": "python",
   "nbconvert_exporter": "python",
   "pygments_lexer": "ipython3",
   "version": "3.11.4"
  },
  "orig_nbformat": 4
 },
 "nbformat": 4,
 "nbformat_minor": 2
}
